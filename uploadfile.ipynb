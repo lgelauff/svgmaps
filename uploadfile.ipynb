{
 "cells": [
  {
   "cell_type": "code",
   "execution_count": null,
   "metadata": {},
   "outputs": [],
   "source": [
    "import requests\n",
    "from requests_oauthlib import OAuth1\n",
    "import os\n",
    "import time\n",
    "# import caffeine\n",
    "# caffeine.off()\n",
    "\n",
    "# Construct a \"consumer\" from the key/secret provided by MediaWiki\n",
    "from configEiabot import consumer_key, consumer_secret, access_token, access_secret  # You'll need to provide this\n",
    "# from configEffeietsanders import consumer_key, consumer_secret, access_token, access_secret  # You'll need to provide this\n",
    "\n",
    "OLDCOMMENT = \"new data\""
   ]
  },
  {
   "cell_type": "code",
   "execution_count": null,
   "metadata": {},
   "outputs": [],
   "source": [
    "auth = OAuth1(consumer_key, consumer_secret, access_token, access_secret)\n",
    "sandboxpage = \"User:Effeietsanders/Sandbox\"\n",
    "\n",
    "# requests.post(url='https://en.wikipedia.org/w/api.php', data=data, auth=auth)\n",
    "new_date = \"6 December 2020\""
   ]
  },
  {
   "cell_type": "code",
   "execution_count": null,
   "metadata": {},
   "outputs": [],
   "source": [
    "print(\"Reading top 10 watchlist items\")\n",
    "response = requests.get(\n",
    "    \"https://commons.wikimedia.org/w/api.php\",\n",
    "    params={\n",
    "        'action': \"query\",\n",
    "        'list': \"watchlist\",\n",
    "        'wllimit': 10,\n",
    "        'wlprop': \"title|comment\",\n",
    "        'format': \"json\"\n",
    "    },\n",
    "    auth=auth\n",
    ")\n",
    "for item in response.json()['query']['watchlist']:\n",
    "    print(\"{title}\\t{comment}\".format(**item))"
   ]
  },
  {
   "cell_type": "code",
   "execution_count": null,
   "metadata": {},
   "outputs": [],
   "source": [
    "URL = \"https://commons.wikimedia.org/w/api.php\"\n",
    "# FILE_NAME = \"COVID-19_Prevalence_in_Alabama_by_county.svg\"\n",
    "# FILE_PATH = 'output/' + FILE_NAME\n",
    "COMMENT = 'new data: ' + new_date\n",
    "# COMMENT = 'data from 16 July 2020, but with two color levels added for rolling 14-day prevalence'"
   ]
  },
  {
   "cell_type": "code",
   "execution_count": null,
   "metadata": {},
   "outputs": [],
   "source": [
    "def getCSRF_Token (URL = \"https://commons.wikimedia.org/w/api.php\", auth = auth):\n",
    "    # Step 3: Obtain a CSRF token\n",
    "    PARAMS_3 = {\n",
    "        \"action\": \"query\",\n",
    "        \"meta\":\"tokens\",\n",
    "        \"format\":\"json\"\n",
    "    }\n",
    "\n",
    "    R = requests.get(url=URL, params=PARAMS_3, auth=auth)\n",
    "    print(\"Get token: \", R)\n",
    "    DATA = R.json()\n",
    "    if 'query' in DATA.keys():\n",
    "        CSRF_TOKEN = DATA[\"query\"][\"tokens\"][\"csrftoken\"]\n",
    "    else:\n",
    "        print(DATA)\n",
    "    return(CSRF_TOKEN)"
   ]
  },
  {
   "cell_type": "code",
   "execution_count": null,
   "metadata": {},
   "outputs": [],
   "source": [
    "def uploadFile (CSRF_TOKEN,\n",
    "                auth = auth,\n",
    "                FILE_NAME = \"COVID-19_Prevalence_in_Alabama_by_county.svg\",\n",
    "                FILE_PATH = 'output/COVID-19_Prevalence_in_Alabama_by_county.svg',\n",
    "                COMMENT = \"new data\",\n",
    "                URL = \"https://commons.wikimedia.org/w/api.php\"\n",
    "                ) :\n",
    "    PARAMS_4 = {\n",
    "        \"action\": \"upload\",\n",
    "        \"filename\": FILE_NAME,\n",
    "        \"comment\": COMMENT,\n",
    "        \"format\": \"json\",\n",
    "        \"token\": CSRF_TOKEN,\n",
    "        \"ignorewarnings\": 1,\n",
    "    }\n",
    "    FILE = {'file':(FILE_NAME, open(FILE_PATH, 'rb'), 'multipart/form-data')}\n",
    "    R = requests.post(URL, files=FILE, data=PARAMS_4, auth=auth)\n",
    "    DATA = R.json()\n",
    "    if 'upload' in DATA.keys():\n",
    "        print(\"success\", \" for \", FILE_NAME)\n",
    "    elif 'error' in DATA.keys():\n",
    "        if 'code' in DATA['error'].keys():\n",
    "            print(\"error for: \", FILE_NAME, \"\\n\", DATA[\"error\"][\"code\"])\n",
    "        else:\n",
    "            print(\"error for: \", FILE_NAME, \"\\n\", DATA[\"error\"])\n",
    "    else:\n",
    "        print(FILE_NAME, \": \\n\", DATA)\n",
    "    return(DATA)\n"
   ]
  },
  {
   "cell_type": "code",
   "execution_count": null,
   "metadata": {},
   "outputs": [],
   "source": [
    "def editPage (CSRF_TOKEN,\n",
    "              newdate,\n",
    "             auth = auth,\n",
    "             PAGE_NAME = sandboxpage, #\"Template:COVID-19_Deaths_Prevalence_in_US_by_county\",\n",
    "             URL = \"https://commons.wikimedia.org/w/api.php\",\n",
    "              start = \"<!-- date -->\",\n",
    "              end = \"<!-- /date -->\"\n",
    "             ):\n",
    "    # First, get the page content\n",
    "    # https://www.mediawiki.org/wiki/API:Get_the_contents_of_a_page\n",
    "    \n",
    "    PARAMS_parse = {\n",
    "        \"action\": \"parse\",\n",
    "        \"page\": PAGE_NAME,\n",
    "        \"format\": \"json\",\n",
    "        \"prop\": \"wikitext\"\n",
    "    }\n",
    "\n",
    "    R = requests.get(url=URL, params=PARAMS_parse)\n",
    "    DATA_parse = R.json()\n",
    "    if 'parse' in DATA_parse.keys():\n",
    "            # Make the change\n",
    "        pagetext = DATA_parse[\"parse\"][\"wikitext\"][\"*\"]\n",
    "#         print(pagetext)\n",
    "        pagetext2 = pagetext.split(start)[0] + start + newdate + end + pagetext.split(end)[1]\n",
    "        print(\"loaded: \", PAGE_NAME)\n",
    "    else:\n",
    "        print(DATA_parse)\n",
    "        throw(\"error!\")\n",
    "        \n",
    "    # Based on https://www.mediawiki.org/wiki/API:Edit\n",
    "    PARAMS_edit = {\n",
    "        \"action\": \"edit\",\n",
    "        \"title\": PAGE_NAME,\n",
    "        \"token\": CSRF_TOKEN,\n",
    "        \"format\": \"json\",\n",
    "        \"text\": pagetext2,\n",
    "        \"summary\": \"new date: \" + newdate\n",
    "    }\n",
    "    R = requests.post(URL, data=PARAMS_edit, auth=auth)\n",
    "    DATA_edit = R.json()\n",
    "    print(R, DATA_edit)\n"
   ]
  },
  {
   "cell_type": "code",
   "execution_count": null,
   "metadata": {},
   "outputs": [],
   "source": [
    "def timeawait(waittime = 10):\n",
    "    time.sleep(-time.time()%waittime) #only upload once every X seconds"
   ]
  },
  {
   "cell_type": "code",
   "execution_count": null,
   "metadata": {},
   "outputs": [],
   "source": [
    "script_dir = os.path.dirname(os.path.realpath('maps'))\n",
    "folderPath = 'output'\n",
    "print(script_dir)"
   ]
  },
  {
   "cell_type": "code",
   "execution_count": null,
   "metadata": {},
   "outputs": [],
   "source": [
    "file_list = []\n",
    "for base_path, dir_names, file_names in os.walk(script_dir + '/' + folderPath):\n",
    "    for file_name in file_names:\n",
    "        if file_name.endswith((\".svg\", \".gif\")):\n",
    "            if file_name.startswith((\"COVID-19_Deaths_Prevalence_in_\", \n",
    "                                     \"COVID-19_Prevalence_in_\",\n",
    "                                     \"COVID-19_rolling_14day_Prevalence_in_\")):\n",
    "                file_path = os.path.join(base_path, file_name)\n",
    "                rel_path = os.path.relpath(file_path, script_dir)\n",
    "                file_list.append([rel_path, file_name, False])"
   ]
  },
  {
   "cell_type": "code",
   "execution_count": null,
   "metadata": {},
   "outputs": [],
   "source": [
    "# caffeine.on(display=True)\n",
    "print(\"starting time\", time.time())\n",
    "if COMMENT == OLDCOMMENT:\n",
    "    print(\"update your comment!\")\n",
    "else:\n",
    "    outputs = []\n",
    "    CsrfToken = getCSRF_Token(URL = \"https://commons.wikimedia.org/w/api.php\", auth = auth)\n",
    "    for file in file_list:\n",
    "        if file[2] == False:\n",
    "            uploaded = uploadFile(CSRF_TOKEN = CsrfToken,\n",
    "                      auth = auth,\n",
    "                      FILE_NAME= file[1],\n",
    "                      FILE_PATH= file[0],\n",
    "                      COMMENT = COMMENT,\n",
    "                      URL = URL)\n",
    "            outputs.append(uploaded)\n",
    "            timeawait(waittime=6) #only upload once every 10s\n",
    "            file[2] = True\n",
    "        elif file[2] == True: #already uploaded these files\n",
    "            print(\"skipping \", file[0])\n",
    "        else:\n",
    "            print(\"error: \", file)\n",
    "            break\n",
    "    OLDCOMMENT = COMMENT #make sure we don't forget to update the comment next time\n",
    "    print(\"done! \", time.time())"
   ]
  },
  {
   "cell_type": "code",
   "execution_count": null,
   "metadata": {},
   "outputs": [],
   "source": [
    "CsrfToken = getCSRF_Token(URL = \"https://commons.wikimedia.org/w/api.php\", auth = auth)\n",
    "pagelist = [\n",
    "    \"Template:COVID-19_Deaths_Prevalence_in_US_by_county\",\n",
    "    \"Template:COVID-19 rolling 14-day Prevalence in US by county\",\n",
    "    \"Template:COVID-19 Prevalence in US by county\"\n",
    "]\n",
    "for page in pagelist:\n",
    "    timeawait(waittime=10)\n",
    "    editPage(CSRF_TOKEN = CsrfToken, \n",
    "             newdate = new_date, \n",
    "             auth=auth,\n",
    "             PAGE_NAME = page,\n",
    "            )\n",
    "# caffeine.off()\n",
    "# print(caffeine.verify())"
   ]
  },
  {
   "cell_type": "code",
   "execution_count": null,
   "metadata": {},
   "outputs": [],
   "source": [
    "##\n",
    "# print(caffeine.verify())"
   ]
  },
  {
   "cell_type": "code",
   "execution_count": null,
   "metadata": {},
   "outputs": [],
   "source": [
    "break"
   ]
  },
  {
   "cell_type": "code",
   "execution_count": null,
   "metadata": {},
   "outputs": [],
   "source": []
  },
  {
   "cell_type": "code",
   "execution_count": null,
   "metadata": {},
   "outputs": [],
   "source": [
    "outputs = []\n",
    "CsrfToken = getCSRF_Token(URL = \"https://commons.wikimedia.org/w/api.php\", auth = auth)\n",
    "for file in [['output/COVID-19_Prevalence_in_Massachusetts_by_county.svg', 'COVID-19_Prevalence_in_Massachusetts_by_county.svg'],\n",
    "            ['output/COVID-19_rolling_14day_Prevalence_in_Massachusetts_by_county.svg', 'COVID-19_rolling_14day_Prevalence_in_Massachusetts_by_county.svg'],\n",
    "            ['output/COVID-19_Deaths_Prevalence_in_Massachusetts_by_county.svg', 'COVID-19_Deaths_Prevalence_in_Massachusetts_by_county.svg']]:\n",
    "    uploaded = uploadFile(CSRF_TOKEN = CsrfToken,\n",
    "              auth = auth,\n",
    "              FILE_NAME= file[1],\n",
    "              FILE_PATH= file[0],\n",
    "              COMMENT = 'bug fix Massachusetts',\n",
    "              URL = URL)\n",
    "    outputs.append(uploaded)\n",
    "    time.sleep(-time.time()%10) #only upload once every 10s\n",
    "OLDCOMMENT = COMMENT #make sure we don't forget to update the comment next time\n",
    "print(\"done!\")\n",
    "    \n",
    "outputs[-1]"
   ]
  },
  {
   "cell_type": "code",
   "execution_count": null,
   "metadata": {},
   "outputs": [],
   "source": [
    "OLDCOMMENT = \"new data\""
   ]
  },
  {
   "cell_type": "code",
   "execution_count": null,
   "metadata": {},
   "outputs": [],
   "source": [
    "# file_list_AL = [ ['output/COVID-19_Prevalence_in_Alabama_by_county.svg',\n",
    "#   'COVID-19_Prevalence_in_Alabama_by_county.svg'],]"
   ]
  },
  {
   "cell_type": "code",
   "execution_count": null,
   "metadata": {},
   "outputs": [],
   "source": [
    "CsrfToken = getCSRF_Token(URL = \"https://en.wikipedia.org/w/api.php\", auth = auth)\n",
    "pagelist = [\n",
    "    \"User:Effeietsanders/Sandbox\"\n",
    "]\n",
    "for page in pagelist:\n",
    "    timeawait(waittime=10)\n",
    "    editPage(CSRF_TOKEN = CsrfToken, \n",
    "             newdate = new_date, \n",
    "             auth=auth,\n",
    "             PAGE_NAME = page,\n",
    "            )"
   ]
  },
  {
   "cell_type": "code",
   "execution_count": null,
   "metadata": {},
   "outputs": [],
   "source": [
    "outputs[-1]"
   ]
  },
  {
   "cell_type": "code",
   "execution_count": null,
   "metadata": {},
   "outputs": [],
   "source": []
  }
 ],
 "metadata": {
  "kernelspec": {
   "display_name": "py3_maps",
   "language": "python",
   "name": "py3_maps"
  },
  "language_info": {
   "codemirror_mode": {
    "name": "ipython",
    "version": 3
   },
   "file_extension": ".py",
   "mimetype": "text/x-python",
   "name": "python",
   "nbconvert_exporter": "python",
   "pygments_lexer": "ipython3",
   "version": "3.8.2"
  }
 },
 "nbformat": 4,
 "nbformat_minor": 2
}
