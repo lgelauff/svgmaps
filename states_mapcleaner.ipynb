{
 "cells": [
  {
   "cell_type": "code",
   "execution_count": 23,
   "metadata": {},
   "outputs": [],
   "source": [
    "import csv\n",
    "import re\n",
    "from lxml import etree\n",
    "from svgpathtools import svg2paths\n",
    "import pandas as pd\n",
    "import numpy as np\n",
    "import os"
   ]
  },
  {
   "cell_type": "code",
   "execution_count": 24,
   "metadata": {},
   "outputs": [],
   "source": [
    "def readblankmap(filename = \"states_svg/Blank map subdivisions 2019 Alabama.svg\"):\n",
    "    with open(filename, \"r\") as f:\n",
    "        svg = f.read()\n",
    "    return(svg)\n"
   ]
  },
  {
   "cell_type": "code",
   "execution_count": 61,
   "metadata": {},
   "outputs": [],
   "source": [
    "def editmap(svg, bounds):\n",
    "    svg = svg.replace('style=\"stroke:#000000\"', 'style=\"stroke:#ffffff\"')\n",
    "    svg = svg.replace('style=\"fill:none;stroke:#000000;', \n",
    "                      'style=\"fill:none;stroke:#ffffff;')\n",
    "    xmin, xmax, ymin, ymax = bounds\n",
    "#     svg = svg.replace('<g id=\"counties\" transform=\"translate(0,0.10698)\"',\n",
    "#                      '<g id=\"counties\" transform=\"translate(' + str(-xmin) + ',' + str(-ymin) + ')\"')\n",
    "    svg = svg.replace('fill=\"#d0d0d0\" height=\"100%\" stroke=\"#ffffff\" stroke-width=\"1\" version=\"1.1\" width=\"100%\" xmlns=\"http://www.w3.org/2000/svg\"',\n",
    "                      'fill=\"#d0d0d0\" height=\"' + str(ymax - ymin) + '\" stroke=\"#ffffff\" stroke-width=\"1\" version=\"1.1\" width=\"' + str(xmax - xmin) + '\" xmlns=\"http://www.w3.org/2000/svg\"')\n",
    "    svg = svg.replace('><defs /><g ', '><defs />\\n\\t<g ')\n",
    "    svg = svg.replace('><defs />', '>\\n\\t<defs />')\n",
    "    svg = svg.replace('/><path ', '/>\\n\\t\\t<path ')\n",
    "    svg = svg.replace('/></g></svg>', '/>\\n\\t</g>\\n</svg>')\n",
    "    return(svg)"
   ]
  },
  {
   "cell_type": "code",
   "execution_count": 62,
   "metadata": {},
   "outputs": [],
   "source": [
    "def writesvg(svg, filename = \"output/test.svg\"):\n",
    "    with open(filename, \"w\") as f:\n",
    "        f.write(svg)\n",
    "    print(\"written: \" + filename)"
   ]
  },
  {
   "cell_type": "code",
   "execution_count": 63,
   "metadata": {},
   "outputs": [],
   "source": [
    "def findminmax (filename):\n",
    "    paths, attributes = svg2paths(filename)\n",
    "    xmin, xmax, ymin, ymax = paths[0].bbox()\n",
    "    for path in paths:\n",
    "        xmini, xmaxi, ymini, ymaxi = path.bbox()\n",
    "        xmin = min(xmin, xmini)\n",
    "        xmax = max(xmax, xmaxi)\n",
    "        ymin = min(ymin, ymini)\n",
    "        ymax = max(ymax, ymaxi)\n",
    "    return([xmin, xmax, ymin, ymax])"
   ]
  },
  {
   "cell_type": "code",
   "execution_count": 64,
   "metadata": {},
   "outputs": [],
   "source": [
    "file_list = []\n",
    "script_dir = os.path.dirname(os.path.realpath('maps'))\n",
    "folderPath = \"states_svg_albers\"\n",
    "for base_path, dir_names, file_names in os.walk(script_dir + '/' + folderPath):\n",
    "    for file_name in file_names:\n",
    "        if file_name.endswith(\".svg\") or \\\n",
    "        file_name.endswith(\".png\") or \\\n",
    "        file_name.endswith(\".jpg\") or \\\n",
    "        file_name.endswith(\".jpeg\") or \\\n",
    "        file_name.endswith(\".gif\"):\n",
    "            file_path = os.path.join(base_path, file_name)\n",
    "            rel_path = os.path.relpath(file_path, script_dir)\n",
    "            file_list.append([rel_path, file_name])"
   ]
  },
  {
   "cell_type": "code",
   "execution_count": 65,
   "metadata": {},
   "outputs": [
    {
     "data": {
      "text/plain": [
       "['states_svg_albers/41_Oregon.svg', '41_Oregon.svg']"
      ]
     },
     "execution_count": 65,
     "metadata": {},
     "output_type": "execute_result"
    }
   ],
   "source": [
    "file_list[0]"
   ]
  },
  {
   "cell_type": "code",
   "execution_count": 66,
   "metadata": {},
   "outputs": [
    {
     "name": "stdout",
     "output_type": "stream",
     "text": [
      "[0.0, 400.0, 0.0, 296.71533941217575]\n",
      "written: output_states_svg_albers/41_Oregon.svg\n",
      "[0.0, 400.0, 0.0, 377.42943170702006]\n",
      "written: output_states_svg_albers/22_Louisiana.svg\n",
      "[0.0, 400.0, 0.0, 152.16906338487698]\n",
      "written: output_states_svg_albers/37_North Carolina.svg\n",
      "[0.0, 400.0, 0.0, 238.46129150925128]\n",
      "written: output_states_svg_albers/38_North Dakota.svg\n",
      "[0.0, 254.88606480281686, 0.0, 400.0]\n",
      "written: output_states_svg_albers/01_Alabama.svg\n",
      "[0.0, 265.3735756220135, 0.0, 400.0]\n",
      "written: output_states_svg_albers/32_Nevada.svg\n",
      "[0.0, 337.6294418352947, 0.0, 400.0]\n",
      "written: output_states_svg_albers/06_California.svg\n",
      "[0.0, 400.0, 0.0, 355.16465109625744]\n",
      "written: output_states_svg_albers/54_West Virginia.svg\n",
      "[0.0, 400.0, 0.0, 173.39598636005508]\n",
      "written: output_states_svg_albers/51_Virginia.svg\n",
      "[0.0, 400.0, 0.0, 291.1560126004101]\n",
      "written: output_states_svg_albers/09_Connecticut.svg\n",
      "[0.0, 344.97227208131505, 0.0, 400.0]\n",
      "written: output_states_svg_albers/04_Arizona.svg\n",
      "[0.0, 347.1161297044747, 0.0, 400.0]\n",
      "written: output_states_svg_albers/13_Georgia.svg\n",
      "[0.0, 245.82655333859458, 0.0, 400.0]\n",
      "written: output_states_svg_albers/28_Mississippi.svg\n",
      "[0.0, 400.0, 0.0, 183.88443482328623]\n",
      "written: output_states_svg_albers/31_Nebraska.svg\n",
      "[0.0, 166.09736920255517, 0.0, 400.0]\n",
      "written: output_states_svg_albers/10_Delaware.svg\n",
      "[0.0, 350.30445794783725, 0.0, 400.0]\n",
      "written: output_states_svg_albers/27_Minnesota.svg\n",
      "[0.0, 400.0, 0.0, 97.03891522375957]\n",
      "written: output_states_svg_albers/47_Tennessee.svg\n",
      "[0.0, 369.5212079101421, 0.0, 400.0]\n",
      "written: output_states_svg_albers/39_Ohio.svg\n",
      "[0.0, 399.99999999999994, 0.0, 169.25468907050126]\n",
      "written: output_states_svg_albers/21_Kentucky.svg\n",
      "[0.0, 322.39982124463535, 0.0, 400.0]\n",
      "written: output_states_svg_albers/11_District of Columbia.svg\n",
      "[0.0, 400.0, 0.0, 288.85757318315075]\n",
      "written: output_states_svg_albers/08_Colorado.svg\n",
      "[0.0, 400.0, 0.0, 261.4074073553936]\n",
      "written: output_states_svg_albers/15_Hawaii.svg\n",
      "[0.0, 400.0, 0.0, 261.4564497579893]\n",
      "written: output_states_svg_albers/19_Iowa.svg\n",
      "[0.0, 225.73890368109141, 0.0, 400.0]\n",
      "written: output_states_svg_albers/17_Illinois.svg\n",
      "[0.0, 400.0, 0.0, 210.4375937439956]\n",
      "written: output_states_svg_albers/24_Maryland.svg\n",
      "[0.0, 400.0, 0.0, 226.5712284694147]\n",
      "written: output_states_svg_albers/02_Alaska.svg\n",
      "[0.0, 242.79057195870413, 0.0, 400.0]\n",
      "written: output_states_svg_albers/50_Vermont.svg\n",
      "[0.0, 400.0, 0.0, 318.02558978118867]\n",
      "written: output_states_svg_albers/45_South Carolina.svg\n",
      "[0.0, 375.2592845816977, 0.0, 400.0]\n",
      "written: output_states_svg_albers/55_Wisconsin.svg\n",
      "[0.0, 400.0, 0.0, 230.1454784257405]\n",
      "written: output_states_svg_albers/42_Pennsylvania.svg\n",
      "[0.0, 400.00000000000006, 0.0, 191.1059086323511]\n",
      "written: output_states_svg_albers/72_Puerto Rico.svg\n",
      "[0.0, 400.0, 0.0, 246.7697940925344]\n",
      "written: output_states_svg_albers/25_Massachusetts.svg\n",
      "[0.0, 267.3714147717538, 0.0, 400.0]\n",
      "written: output_states_svg_albers/23_Maine.svg\n",
      "[0.0, 340.4376373412351, 0.0, 400.0]\n",
      "written: output_states_svg_albers/26_Michigan.svg\n",
      "[0.0, 400.0, 0.0, 263.2038096589818]\n",
      "written: output_states_svg_albers/53_Washington.svg\n",
      "[0.0, 400.0, 0.0, 399.26579503341725]\n",
      "written: output_states_svg_albers/12_Florida.svg\n",
      "[0.0, 259.75993889351406, 0.0, 400.0]\n",
      "written: output_states_svg_albers/18_Indiana.svg\n",
      "[0.0, 208.4906423081755, 0.0, 400.0]\n",
      "written: output_states_svg_albers/33_New Hampshire.svg\n",
      "[0.0, 400.0, 0.0, 313.69893603166753]\n",
      "written: output_states_svg_albers/56_Wyoming.svg\n",
      "[0.0, 256.17853297002176, 0.0, 400.0]\n",
      "written: output_states_svg_albers/44_Rhode Island.svg\n",
      "[0.0, 400.0, 0.0, 305.48664358845417]\n",
      "written: output_states_svg_albers/36_New York.svg\n",
      "[0.0, 400.0, 0.0, 349.2793868133271]\n",
      "written: output_states_svg_albers/05_Arkansas.svg\n",
      "[0.0, 400.0, 0.0, 379.73393705186896]\n",
      "written: output_states_svg_albers/48_Texas.svg\n",
      "[0.0, 320.27838853776416, 0.0, 400.0]\n",
      "written: output_states_svg_albers/49_Utah.svg\n",
      "[0.0, 210.58303048071502, 0.0, 399.99999999999994]\n",
      "written: output_states_svg_albers/34_New Jersey.svg\n",
      "[0.0, 400.0, 0.0, 229.88424177354884]\n",
      "written: output_states_svg_albers/30_Montana.svg\n",
      "[0.0, 400.0, 0.0, 205.45803771229745]\n",
      "written: output_states_svg_albers/20_Kansas.svg\n",
      "[0.0, 400.0, 0.0, 196.52439668758257]\n",
      "written: output_states_svg_albers/40_Oklahoma.svg\n",
      "[0.0, 251.91595797908408, 0.0, 400.0]\n",
      "written: output_states_svg_albers/16_Idaho.svg\n",
      "[0.0, 359.328672910626, 0.0, 400.0]\n",
      "written: output_states_svg_albers/35_New Mexico.svg\n",
      "[0.0, 399.99999999999994, 0.0, 356.20071813125935]\n",
      "written: output_states_svg_albers/29_Missouri.svg\n",
      "[0.0, 400.0, 0.0, 248.13903477949808]\n",
      "written: output_states_svg_albers/46_South Dakota.svg\n"
     ]
    }
   ],
   "source": [
    "census = pd.read_csv('data/census.csv')\n",
    "states = census.groupby('STATE').agg({'STNAME': 'first'})\n",
    "states_df = pd.DataFrame(states)\n",
    "for file in file_list:\n",
    "#     st_index = str(state_id).zfill(2)\n",
    "#     st_name = states_df.loc[state_id][\"STNAME\"]\n",
    "#     filtermap(filename = \"Usa_counties_large.svg\", state_id = st_index)\n",
    "    bounds_state = findminmax(file[0])\n",
    "    print(bounds_state)\n",
    "    svg_state = readblankmap(filename = file[0])\n",
    "    edited_svg_state = editmap(svg_state, bounds = bounds_state)\n",
    "    writesvg(svg = edited_svg_state, filename = \"output_states_svg_albers/\" + file[1])"
   ]
  },
  {
   "cell_type": "code",
   "execution_count": null,
   "metadata": {},
   "outputs": [],
   "source": []
  },
  {
   "cell_type": "code",
   "execution_count": null,
   "metadata": {},
   "outputs": [],
   "source": []
  },
  {
   "cell_type": "code",
   "execution_count": null,
   "metadata": {},
   "outputs": [],
   "source": []
  }
 ],
 "metadata": {
  "kernelspec": {
   "display_name": "py3_maps",
   "language": "python",
   "name": "py3_maps"
  },
  "language_info": {
   "codemirror_mode": {
    "name": "ipython",
    "version": 3
   },
   "file_extension": ".py",
   "mimetype": "text/x-python",
   "name": "python",
   "nbconvert_exporter": "python",
   "pygments_lexer": "ipython3",
   "version": "3.8.2"
  }
 },
 "nbformat": 4,
 "nbformat_minor": 2
}
