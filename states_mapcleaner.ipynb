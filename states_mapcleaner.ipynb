{
 "cells": [
  {
   "cell_type": "code",
   "execution_count": null,
   "metadata": {},
   "outputs": [],
   "source": [
    "import csv\n",
    "import re\n",
    "from lxml import etree\n",
    "from svgpathtools import svg2paths\n",
    "import pandas as pd\n",
    "import numpy as np\n",
    "import os"
   ]
  },
  {
   "cell_type": "code",
   "execution_count": null,
   "metadata": {},
   "outputs": [],
   "source": [
    "def readblankmap(filename = \"states_svg/Blank map subdivisions 2019 Alabama.svg\"):\n",
    "    with open(filename, \"r\") as f:\n",
    "        svg = f.read()\n",
    "    return(svg)\n"
   ]
  },
  {
   "cell_type": "code",
   "execution_count": null,
   "metadata": {},
   "outputs": [],
   "source": [
    "def editmap(svg, bounds):\n",
    "    svg = svg.replace('style=\"stroke:#000000\"', 'style=\"stroke:#ffffff\"')\n",
    "    svg = svg.replace('style=\"fill:none;stroke:#000000;', \n",
    "                      'style=\"fill:none;stroke:#ffffff;')\n",
    "    xmin, xmax, ymin, ymax = bounds\n",
    "#     svg = svg.replace('<g id=\"counties\" transform=\"translate(0,0.10698)\"',\n",
    "#                      '<g id=\"counties\" transform=\"translate(' + str(-xmin) + ',' + str(-ymin) + ')\"')\n",
    "    svg = svg.replace('fill=\"#d0d0d0\" height=\"100%\" stroke=\"#ffffff\" stroke-width=\"1\" version=\"1.1\" width=\"100%\" xmlns=\"http://www.w3.org/2000/svg\"',\n",
    "                      'fill=\"#d0d0d0\" height=\"' + str(ymax - ymin) + '\" stroke=\"#ffffff\" stroke-width=\"1\" version=\"1.1\" width=\"' + str(xmax - xmin) + '\" xmlns=\"http://www.w3.org/2000/svg\"')\n",
    "    svg = svg.replace('><defs /><g ', '><defs />\\n\\t<g ')\n",
    "    svg = svg.replace('><defs />', '>\\n\\t<defs />')\n",
    "    svg = svg.replace('/><path ', '/>\\n\\t\\t<path ')\n",
    "    svg = svg.replace('/></g></svg>', '/>\\n\\t</g>\\n</svg>')\n",
    "    return(svg)"
   ]
  },
  {
   "cell_type": "code",
   "execution_count": null,
   "metadata": {},
   "outputs": [],
   "source": [
    "def writesvg(svg, filename = \"output/test.svg\"):\n",
    "    with open(filename, \"w\") as f:\n",
    "        f.write(svg)\n",
    "    print(\"written: \" + filename)"
   ]
  },
  {
   "cell_type": "code",
   "execution_count": null,
   "metadata": {},
   "outputs": [],
   "source": [
    "def findminmax (filename):\n",
    "    paths, attributes = svg2paths(filename)\n",
    "    xmin, xmax, ymin, ymax = paths[0].bbox()\n",
    "    for path in paths:\n",
    "        xmini, xmaxi, ymini, ymaxi = path.bbox()\n",
    "        xmin = min(xmin, xmini)\n",
    "        xmax = max(xmax, xmaxi)\n",
    "        ymin = min(ymin, ymini)\n",
    "        ymax = max(ymax, ymaxi)\n",
    "    return([xmin, xmax, ymin, ymax])"
   ]
  },
  {
   "cell_type": "code",
   "execution_count": null,
   "metadata": {},
   "outputs": [],
   "source": [
    "file_list = []\n",
    "script_dir = os.path.dirname(os.path.realpath('maps'))\n",
    "folderPath = \"states_svg_albers\"\n",
    "for base_path, dir_names, file_names in os.walk(script_dir + '/' + folderPath):\n",
    "    for file_name in file_names:\n",
    "        if file_name.endswith(\".svg\") or \\\n",
    "        file_name.endswith(\".png\") or \\\n",
    "        file_name.endswith(\".jpg\") or \\\n",
    "        file_name.endswith(\".jpeg\") or \\\n",
    "        file_name.endswith(\".gif\"):\n",
    "            file_path = os.path.join(base_path, file_name)\n",
    "            rel_path = os.path.relpath(file_path, script_dir)\n",
    "            file_list.append([rel_path, file_name])"
   ]
  },
  {
   "cell_type": "code",
   "execution_count": null,
   "metadata": {},
   "outputs": [],
   "source": [
    "file_list[0]"
   ]
  },
  {
   "cell_type": "code",
   "execution_count": null,
   "metadata": {},
   "outputs": [],
   "source": [
    "census = pd.read_csv('data/census.csv')\n",
    "states = census.groupby('STATE').agg({'STNAME': 'first'})\n",
    "states_df = pd.DataFrame(states)\n",
    "for file in file_list:\n",
    "#     st_index = str(state_id).zfill(2)\n",
    "#     st_name = states_df.loc[state_id][\"STNAME\"]\n",
    "#     filtermap(filename = \"Usa_counties_large.svg\", state_id = st_index)\n",
    "    bounds_state = findminmax(file[0])\n",
    "    print(bounds_state)\n",
    "    svg_state = readblankmap(filename = file[0])\n",
    "    edited_svg_state = editmap(svg_state, bounds = bounds_state)\n",
    "    writesvg(svg = edited_svg_state, filename = \"output_states_svg_albers/Blank map subdivisions 2019 Albers \" + file[1][3:])"
   ]
  }
 ],
 "metadata": {
  "kernelspec": {
   "display_name": "py3_maps",
   "language": "python",
   "name": "py3_maps"
  },
  "language_info": {
   "codemirror_mode": {
    "name": "ipython",
    "version": 3
   },
   "file_extension": ".py",
   "mimetype": "text/x-python",
   "name": "python",
   "nbconvert_exporter": "python",
   "pygments_lexer": "ipython3",
   "version": "3.8.2"
  }
 },
 "nbformat": 4,
 "nbformat_minor": 2
}
